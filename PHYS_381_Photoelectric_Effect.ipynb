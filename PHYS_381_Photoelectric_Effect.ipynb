{
 "cells": [
  {
   "cell_type": "markdown",
   "metadata": {},
   "source": [
    "## Marlon Diaz, Spring 2023\n",
    "### Python Assignment 5 for Physics Course 381 Upper Division from California State University - East Bay\n",
    "### The Robert Andrews Millikan experiment to verify Einstein’s photo-electric relationship.\n",
    "\n",
    "My introduction will be quick so that we can get straight to the python code and compute linear regression. \n",
    "\n",
    "If you are interested in reading the original paper from Mr. Millikan, check out https://journals.aps.org/pr/pdf/10.1103/PhysRev.7.355\n",
    "\n",
    "It started in 1900 with Planck introducing his constant on blackbody radiation, denoted $h$ and with value $h= 6.626 x 10^{-34}$ Js.\n",
    "\n",
    "This brings us to the quantum world of energy with Planck and Einstein in 1905. Einstein worked on his theory of the photoelectric effect and stated that the max kinetic energy for emitted electrons off a piece of metal, such as zinc, gold, aluminum, ect is   :\n",
    "\n",
    "$$ E_{max} = hf- E_{0}$$\n",
    "\n",
    "where $E_{0}$ is the minimum energy with which an electron is bound in the metal.\n",
    "\n",
    "$h$ is Planck constant, and $f$ stands for frequency. \n",
    "\n",
    "The max energy of the emitted electrons is just $ E_{max} = eV$\n",
    "It was found experimentally that $E_{max}$ is independent of the intensity of the light falling on the metal.\n",
    "\n",
    "$E_{max}$ can also be plotted as a function of frequency. For frequencies $f$ greater than some minimum $f_{0} = \\frac{E_{0}}{h}$, the data for $E_{max}$ versus $f$ fits a straight line, whose slope equals Planck's constant! In other words\n",
    "\n",
    "$E_{max} = hf - E_{0}$\n",
    "\n",
    "In 1914, Robert A. Millikan's highly accurate measurements of the Planck constant from the photoelectric effect supported Einstein's model.\n",
    "\n",
    "In the original paper, Millikan stated: \"That there is a linear relation between `V` and `f`\".\n",
    "\n",
    "# Where did I get the data points from?\n",
    "On Canvas, my professor provided the data. I downloaded a file called `millikan.txt`. \n",
    "This file contains two columns of numbers, giving the x and y coordinates of a set of data points.\n",
    "\n",
    "- The x-coordinate variable represents the frequency f in Hertz. Millikan varied the frequency of light shining on the metal surface to observe its effects. For Linear regression `x` is the independent variable. \n",
    "\n",
    "- The y-coordinate variable represents the voltage V in Volts. For Linear regression `y` is the dependent variable\n",
    "\n",
    "\n",
    "# IMPORT PYTHON PACKAGE"
   ]
  },
  {
   "cell_type": "code",
   "metadata": {
    "ExecuteTime": {
     "end_time": "2024-10-04T01:47:50.471431Z",
     "start_time": "2024-10-04T01:47:50.467995Z"
    }
   },
   "source": [
    "# packages\n",
    "\n",
    "from pylab import imshow, show\n",
    "from numpy import loadtxt\n",
    "\n",
    "import matplotlib.pyplot as plt\n",
    "import pandas as pd\n",
    "import numpy as np"
   ],
   "outputs": [],
   "execution_count": 11
  },
  {
   "cell_type": "markdown",
   "metadata": {},
   "source": [
    "#### TASK: Write a program to read these data points and make a graph with one dot or circle for each point. \n",
    "\n",
    "### Millikan’s Data for the Photoelectric Effect\n",
    "\n",
    " If the light has a high enough frequency (the frequency of light is related to its color), then the absorption of the light results in electrons being emitted from the surface. Albert Einstein produced a theory to explain this behavior and Robert Millikan performed an experiment to confirm that theory.  \n",
    "\n",
    "In the experiment, light of various frequencies was shone upon a metallic surface, and then the electric potential (voltage) required to stop those electrons was measured.  A rough estimation of the data is found in the following output. \n"
   ]
  },
  {
   "cell_type": "code",
   "metadata": {
    "ExecuteTime": {
     "end_time": "2024-10-04T01:40:11.939864Z",
     "start_time": "2024-10-04T01:40:11.926836Z"
    }
   },
   "source": [
    "# Read Text Files with Pandas using read_csv()\n",
    "\n",
    "# read text file into pandas DataFrame and create\n",
    "# header with x = frequency and y = Voltage\n",
    "\n",
    "data = pd.read_csv(\"millikan.txt\", sep=\" \", header=None,\n",
    "                names=[\"Frequency_f_Hz\", \"Voltage_V_volts\"])\n",
    "\n",
    "# display Data as a DataFrame\n",
    "print(data)\n"
   ],
   "outputs": [
    {
     "name": "stdout",
     "output_type": "stream",
     "text": [
      "   Frequency_f_Hz  Voltage_V_volts\n",
      "0    5.487400e+14          0.53090\n",
      "1    6.931000e+14          1.08420\n",
      "2    7.430700e+14          1.27340\n",
      "3    8.219300e+14          1.65980\n",
      "4    9.607400e+14          2.19856\n",
      "5    1.184000e+15          3.10891\n"
     ]
    }
   ],
   "execution_count": 2
  },
  {
   "cell_type": "markdown",
   "metadata": {},
   "source": [
    "### SCATTER PLOT "
   ]
  },
  {
   "metadata": {
    "ExecuteTime": {
     "end_time": "2024-10-04T01:45:00.706487Z",
     "start_time": "2024-10-04T01:45:00.631315Z"
    }
   },
   "cell_type": "code",
   "source": "xdf2 = pd.DataFrame(data, columns=['Frequency_f_Hz', 'Voltage_V_volts' ])",
   "outputs": [],
   "execution_count": 7
  },
  {
   "cell_type": "code",
   "metadata": {
    "scrolled": true,
    "ExecuteTime": {
     "end_time": "2024-10-04T01:45:04.734536Z",
     "start_time": "2024-10-04T01:45:04.697081Z"
    }
   },
   "source": "xdf2",
   "outputs": [
    {
     "data": {
      "text/plain": [
       "   Frequency_f_Hz  Voltage_V_volts\n",
       "0    5.487400e+14          0.53090\n",
       "1    6.931000e+14          1.08420\n",
       "2    7.430700e+14          1.27340\n",
       "3    8.219300e+14          1.65980\n",
       "4    9.607400e+14          2.19856\n",
       "5    1.184000e+15          3.10891"
      ],
      "text/html": [
       "<div>\n",
       "<style scoped>\n",
       "    .dataframe tbody tr th:only-of-type {\n",
       "        vertical-align: middle;\n",
       "    }\n",
       "\n",
       "    .dataframe tbody tr th {\n",
       "        vertical-align: top;\n",
       "    }\n",
       "\n",
       "    .dataframe thead th {\n",
       "        text-align: right;\n",
       "    }\n",
       "</style>\n",
       "<table border=\"1\" class=\"dataframe\">\n",
       "  <thead>\n",
       "    <tr style=\"text-align: right;\">\n",
       "      <th></th>\n",
       "      <th>Frequency_f_Hz</th>\n",
       "      <th>Voltage_V_volts</th>\n",
       "    </tr>\n",
       "  </thead>\n",
       "  <tbody>\n",
       "    <tr>\n",
       "      <th>0</th>\n",
       "      <td>5.487400e+14</td>\n",
       "      <td>0.53090</td>\n",
       "    </tr>\n",
       "    <tr>\n",
       "      <th>1</th>\n",
       "      <td>6.931000e+14</td>\n",
       "      <td>1.08420</td>\n",
       "    </tr>\n",
       "    <tr>\n",
       "      <th>2</th>\n",
       "      <td>7.430700e+14</td>\n",
       "      <td>1.27340</td>\n",
       "    </tr>\n",
       "    <tr>\n",
       "      <th>3</th>\n",
       "      <td>8.219300e+14</td>\n",
       "      <td>1.65980</td>\n",
       "    </tr>\n",
       "    <tr>\n",
       "      <th>4</th>\n",
       "      <td>9.607400e+14</td>\n",
       "      <td>2.19856</td>\n",
       "    </tr>\n",
       "    <tr>\n",
       "      <th>5</th>\n",
       "      <td>1.184000e+15</td>\n",
       "      <td>3.10891</td>\n",
       "    </tr>\n",
       "  </tbody>\n",
       "</table>\n",
       "</div>"
      ]
     },
     "execution_count": 8,
     "metadata": {},
     "output_type": "execute_result"
    }
   ],
   "execution_count": 8
  },
  {
   "cell_type": "code",
   "metadata": {
    "ExecuteTime": {
     "end_time": "2024-10-04T01:45:25.586215Z",
     "start_time": "2024-10-04T01:45:25.438750Z"
    }
   },
   "source": [
    "font1 = {'family':'serif','color':'blue','size':20}\n",
    "font2 = {'family':'serif','color':'darkred','size':15}\n",
    "\n",
    "plt.title(\"PhotoElectric Effect Data\", fontdict = font1)\n",
    "plt.xlabel(\"Frequency_v_Hz\", fontdict = font2)\n",
    "plt.ylabel(\"Voltage_V_volts\", fontdict = font2)\n",
    "\n",
    "plt.scatter(x=xdf2['Frequency_f_Hz'], y=xdf2['Voltage_V_volts'])\n",
    "plt.show()"
   ],
   "outputs": [
    {
     "data": {
      "text/plain": [
       "<Figure size 640x480 with 1 Axes>"
      ],
      "image/png": "[encoded data removed]"
     },
     "metadata": {},
     "output_type": "display_data"
    }
   ],
   "execution_count": 9
  },
  {
   "cell_type": "markdown",
   "metadata": {},
   "source": [
    "# Linear Regression in Python using numpy + polyfit \n",
    "\n",
    "#### numpy.polyfit is for the Least squares polynomial fit."
   ]
  },
  {
   "cell_type": "code",
   "metadata": {
    "ExecuteTime": {
     "end_time": "2024-10-04T01:48:06.540373Z",
     "start_time": "2024-10-04T01:48:06.533030Z"
    }
   },
   "source": [
    "reg = np.polyfit(xdf2['Frequency_f_Hz'], xdf2['Voltage_V_volts'], deg = 1)\n",
    "print(reg)"
   ],
   "outputs": [
    {
     "name": "stdout",
     "output_type": "stream",
     "text": [
      "[ 4.08822736e-15 -1.73123580e+00]\n"
     ]
    }
   ],
   "execution_count": 13
  },
  {
   "cell_type": "markdown",
   "metadata": {},
   "source": [
    "# Printed coefficients\n",
    "slope = m $ = 4.08822736 * 10^{-15} $ \n",
    "\n",
    "intercept = c $ = -1.7312358039813585 $\n"
   ]
  },
  {
   "cell_type": "markdown",
   "metadata": {},
   "source": [
    "#### numpy.polyval is to Evaluate a polynomial at specific values."
   ]
  },
  {
   "cell_type": "code",
   "metadata": {
    "ExecuteTime": {
     "end_time": "2024-10-04T01:48:40.668760Z",
     "start_time": "2024-10-04T01:48:40.581280Z"
    }
   },
   "source": [
    "trend = np.polyval(reg, xdf2['Frequency_f_Hz'])\n",
    "plt.scatter(xdf2['Frequency_f_Hz'], xdf2['Voltage_V_volts'])\n",
    "plt.plot(xdf2['Frequency_f_Hz'], trend, 'r');"
   ],
   "outputs": [
    {
     "data": {
      "text/plain": [
       "<Figure size 640x480 with 1 Axes>"
      ],
      "image/png": "[encoded data removed]"
     },
     "metadata": {},
     "output_type": "display_data"
    }
   ],
   "execution_count": 17
  },
  {
   "cell_type": "markdown",
   "metadata": {},
   "source": "The data in the file millikan.txt represent frequencies `f` in hertz (first column) and voltages `V` in volts (second column) from photoelectric measurements of this kind. Using the equation above and the program you wrote, and given that the charge on the electron is 1.602 × 10−19 C, calculate from Millikan’s experimental data a value for Planck’s constant. Compare your value with the accepted value of the constant, which you can find in books or on-line. You should get a result within a couple of percent of the accepted value. "
  },
  {
   "cell_type": "code",
   "metadata": {
    "ExecuteTime": {
     "end_time": "2024-10-04T03:13:00.873579Z",
     "start_time": "2024-10-04T03:13:00.867872Z"
    }
   },
   "source": [
    "e = 1.6 * 10**-19\n",
    "m = 4.08822736*10**-15\n",
    "\n",
    "planck = m * e\n",
    "\n",
    "print('plancks constant is', planck)"
   ],
   "outputs": [
    {
     "name": "stdout",
     "output_type": "stream",
     "text": [
      "plancks constant is 6.541163776000001e-34\n"
     ]
    }
   ],
   "execution_count": 42
  },
  {
   "metadata": {},
   "cell_type": "markdown",
   "source": [
    "# Linear regression using sklearn (better method)\n",
    "is a fundamental statistical technique that models the relationship between a dependent variable and one or more independent variables. \n",
    "\n",
    "A linear regression fits a straight line to observed data, attempting to demonstrate a linear relationship between variables and make predictions on new data yet to be observed.\n",
    "\n",
    "Using `sklearn.linear_model.LinearRegression`, you can easily perform linear regression in Python. Here is a sample code to demonstrate how to do this:\n"
   ]
  },
  {
   "metadata": {},
   "cell_type": "code",
   "outputs": [],
   "execution_count": 19,
   "source": "from sklearn.linear_model import LinearRegression"
  },
  {
   "metadata": {
    "ExecuteTime": {
     "end_time": "2024-10-04T03:15:16.964787Z",
     "start_time": "2024-10-04T03:15:16.953731Z"
    }
   },
   "cell_type": "code",
   "source": [
    "x = xdf2[['Frequency_f_Hz']]\n",
    "y = xdf2['Voltage_V_volts']*e"
   ],
   "outputs": [],
   "execution_count": 56
  },
  {
   "metadata": {
    "ExecuteTime": {
     "end_time": "2024-10-04T03:15:19.245917Z",
     "start_time": "2024-10-04T03:15:19.242414Z"
    }
   },
   "cell_type": "code",
   "source": "fit = LinearRegression().fit(x,y)",
   "outputs": [],
   "execution_count": 57
  },
  {
   "metadata": {
    "ExecuteTime": {
     "end_time": "2024-10-04T03:15:21.503188Z",
     "start_time": "2024-10-04T03:15:21.499081Z"
    }
   },
   "cell_type": "code",
   "source": [
    "# Predict values using the fitted model\n",
    "y_pred = fit.predict(x)"
   ],
   "outputs": [],
   "execution_count": 58
  },
  {
   "metadata": {
    "ExecuteTime": {
     "end_time": "2024-10-04T03:15:22.377437Z",
     "start_time": "2024-10-04T03:15:22.371345Z"
    }
   },
   "cell_type": "code",
   "source": [
    "# Evaluate the model\n",
    "r2_score = fit.score(x, y)\n",
    "print(f\"R-squared value: {r2_score}\")"
   ],
   "outputs": [
    {
     "name": "stdout",
     "output_type": "stream",
     "text": [
      "R-squared value: 0.999339780732655\n"
     ]
    }
   ],
   "execution_count": 59
  },
  {
   "metadata": {
    "ExecuteTime": {
     "end_time": "2024-10-04T03:15:23.294778Z",
     "start_time": "2024-10-04T03:15:23.195547Z"
    }
   },
   "cell_type": "code",
   "source": [
    "# Optionally, plot the data points and the fitted line\n",
    "plt.scatter(x, y, color='red', label='Data points')\n",
    "plt.plot(x, y_pred, color='blue', label='Fitted line')\n",
    "plt.xlabel('Frequency in Hertz Units (X)')\n",
    "plt.ylabel('eV Units (y)')\n",
    "plt.grid(True)\n",
    "plt.title('Linear Regression')\n",
    "plt.legend()\n",
    "plt.show()"
   ],
   "outputs": [
    {
     "data": {
      "text/plain": [
       "<Figure size 640x480 with 1 Axes>"
      ],
      "image/png": "[encoded data removed]"
     },
     "metadata": {},
     "output_type": "display_data"
    }
   ],
   "execution_count": 60
  },
  {
   "metadata": {},
   "cell_type": "markdown",
   "source": [
    "# TASK 2 \n",
    "#### This figure above represents the turn on voltages versus their respective frequencies.\n",
    "#### Add code to your program, before the part that makes the graph, to calculate the quantities below.\n",
    "\n",
    "$$ E_{x} = \\frac{1}{N} \\Sigma_{i=1}^{N} x_{i} $$\n",
    "\n",
    "$$ E_{y} = \\frac{1}{N} \\Sigma_{i=1}^{N} y_{i} $$\n",
    "\n",
    "$$ E_{xx} = \\frac{1}{N} \\Sigma_{i=1}^{N} x_{i}^{2} $$\n",
    "\n",
    "$$ E_{xy} = \\frac{1}{N} \\Sigma_{i=1}^{N} x_{i}y_{i} $$\n"
   ]
  },
  {
   "cell_type": "markdown",
   "metadata": {},
   "source": [
    "#### and from them calculate and print out the slope m and intercept c of the best-fit line.\n",
    "\n",
    "using the following notation: \\\n",
    "$c1 = E_{x}$ \\\n",
    "$c2 = E_{y}$ \\\n",
    "$c3 = E_{xy}$ \\\n",
    "$c4 = E_{xx}$ \n",
    "\n",
    "$$ m = \\frac{c3-c1*c2}{c4-c1^{2}} $$\n",
    "\n",
    "and \n",
    "\n",
    "$$ c = \\frac{c4*c2-c1*c3}{c4-c1^{2}}$$\n",
    "\n",
    "or in general:\n",
    "\n",
    "$$ c = c2 - m*c1$$\n"
   ]
  },
  {
   "cell_type": "code",
   "execution_count": 258,
   "metadata": {
    "scrolled": false
   },
   "outputs": [
    {
     "name": "stdout",
     "output_type": "stream",
     "text": [
      "Sum of Ex = c1 =  825263333333333.4\n",
      "Sum of Ey = c2 = 1.6426283333333334\n",
      "Sum of Exy = c3 = 9146443812400000.0\n",
      "Sum of Exx = c4 = 4.334102495e+30\n"
     ]
    }
   ],
   "source": [
    "# -------------- using numpy to calculate the sum\n",
    "# -------------- straight line fit to y vs x \n",
    "\n",
    "n = 6\n",
    "\n",
    "# Sum values of list x and divie by n, = average of x-coordinate \n",
    "\n",
    "x = np.array([5.487400*10**14, 6.931000*10**14, 7.430700*10**14, 8.219300*10**14, 9.607400*10**14, 1.184000*10**15])\n",
    "\n",
    "c1 = np.sum(x)/n\n",
    "\n",
    "# Sum values of list y and divie by n, = average of y-coordinate\n",
    "\n",
    "y = np.array([0.53090, 1.08420, 1.27340, 1.65980,  2.19856, 3.10891])\n",
    "\n",
    "c2 = np.sum(y)/n\n",
    "\n",
    "\n",
    "# multiply list x by y element by element = list a2\n",
    "a2 = np.multiply(x,y)\n",
    "\n",
    "# sum element of a2\n",
    "c3 = np.sum(a2)\n",
    "\n",
    "# multiply list x by x element by element = list a1\n",
    "a1 = np.multiply(x,x)\n",
    "\n",
    "# sum element of a1\n",
    "c4 = np.sum(a1)\n",
    "\n",
    "print('Sum of Ex = c1 = ', c1)\n",
    "print('Sum of Ey = c2 =', c2)\n",
    "print('Sum of Exy = c3 =', c3)\n",
    "print('Sum of Exx = c4 =', c4)"
   ]
  },
  {
   "cell_type": "markdown",
   "metadata": {},
   "source": [
    "#### Within the code, include a loop that goes through each of the data points in turn and evaluates the quantity $ y = mx_{i}+c$\n",
    " using the values of m and c from above. \n",
    " \n",
    " #### Create loop for $ y = mx + c$ \n",
    "\n",
    "where m is its slope/gradient and c its intercept."
   ]
  },
  {
   "cell_type": "code",
   "execution_count": 279,
   "metadata": {},
   "outputs": [
    {
     "name": "stdout",
     "output_type": "stream",
     "text": [
      "slope m is 4.088227358517514e-15\n",
      "intercept c is -1.7312358039813585\n"
     ]
    },
    {
     "data": {
      "text/plain": [
       "Text(0, 0.5, 'Y')"
      ]
     },
     "execution_count": 279,
     "metadata": {},
     "output_type": "execute_result"
    },
    {
     "data": {
      "image/png": "[encoded data removed]",
      "text/plain": [
       "<Figure size 864x648 with 1 Axes>"
      ]
     },
     "metadata": {},
     "output_type": "display_data"
    }
   ],
   "source": [
    "x_values = np.array([5.487400*10**14, 6.931000*10**14, 7.430700*10**14, 8.219300*10**14, 9.607400*10**14, 1.184000*10**15])\n",
    "y_values = np.array([0.53090, 1.08420, 1.27340, 1.65980,  2.19856, 3.10891])\n",
    "n = np.size(x_values)\n",
    "  \n",
    "x_mean = np.mean(x_values)\n",
    "y_mean = np.mean(y_values)\n",
    "\n",
    "x_mean,y_mean\n",
    "  \n",
    "Sxy = np.sum(x_values*y_values)- n*x_mean*y_mean\n",
    "Sxx = np.sum(x_values*x_values)-n*x_mean*x_mean\n",
    "  \n",
    "m = Sxy/Sxx\n",
    "c = y_mean-m*x_mean\n",
    "\n",
    "print('slope m is', m)\n",
    "print('intercept c is', c)\n",
    "  \n",
    "plt.scatter(x_values,y_values)\n",
    "plt.xlabel('Independent variable X')\n",
    "plt.ylabel('Dependent variable Y')\n",
    "\n",
    "y_pred = m * x_values + c\n",
    "\n",
    "plt.scatter(x_values, y_values, color = 'red')\n",
    "plt.plot(x_values, y_pred, color = 'green')\n",
    "plt.xlabel('X')\n",
    "plt.ylabel('Y')\n",
    "\n"
   ]
  }
 ],
 "metadata": {
  "kernelspec": {
   "display_name": "Python 3",
   "language": "python",
   "name": "python3"
  },
  "language_info": {
   "codemirror_mode": {
    "name": "ipython",
    "version": 3
   },
   "file_extension": ".py",
   "mimetype": "text/x-python",
   "name": "python",
   "nbconvert_exporter": "python",
   "pygments_lexer": "ipython3",
   "version": "3.6.8"
  }
 },
 "nbformat": 4,
 "nbformat_minor": 4
}
